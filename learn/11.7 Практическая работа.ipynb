{
 "cells": [
  {
   "cell_type": "markdown",
   "id": "194ee24b-50d1-4175-b37e-2e3f7e762269",
   "metadata": {
    "id": "194ee24b-50d1-4175-b37e-2e3f7e762269"
   },
   "source": [
    "# Чтение файлов в Python и командной строке. Практическая работа\n",
    "\n",
    "### Цели практической работы\n",
    "1. Научиться считывать информацию из файлов и совершать над ней операции с помощью кода на Python и командной строки.\n",
    "2. Закрепить навыки стыковки команд в конвейеры и установки внешних пакетов с помощью пакетного менеджера pip.\n",
    "\n",
    "### Что входит в практическую работу\n",
    "1. Работа с файлами в командной строке.\n",
    "2. Работа с файлами в Python 1.\n",
    "3. Работа с файлами в Python 2.\n",
    "4. Импортирование модулей.\n",
    "5. Установка внешних модулей через pip.\n",
    "6. Бонусное задание.\n",
    "\n",
    "### Что оценивается\n",
    "* Выполнены пять обязательных заданий, в каждом из них:\n",
    " * программа выполняет все описанные в задании действия;\n",
    " * результаты вычислений и применённых операций корректны;\n",
    " * стилизация кода соответствует рекомендациям [PEP 8](https://pythonworld.ru/osnovy/pep-8-rukovodstvo-po-napisaniyu-koda-na-python.html).\n",
    "\n",
    "\n",
    "### Как отправить работу на проверку\n",
    "Все задания собраны в один Jupyter Notebook. Выполните их, сохраните изменения при помощи опции Save and Checkpoint из вкладки меню File или кнопки Save and Checkpoint на панели инструментов. Отправьте итоговый файл Jupyter Notebook в формате IPYNB или ссылку на него через форму для сдачи практической работы.\n",
    "\n",
    "---"
   ]
  },
  {
   "cell_type": "markdown",
   "id": "a44f6df4",
   "metadata": {
    "id": "a44f6df4"
   },
   "source": [
    "## Задание 1. Работа с файлами в командной строке\n",
    "\n",
    "Ранее вы считали количество всех слов в рассказе А. П. Чехова «Анна на шее». Теперь необходимо определить, сколько раз каждое слово встречается в тексте.\n",
    "\n",
    "Вы уже знаете команды sort и uniq, умеете с их помощью считать количество уникальных строк в построчном файле. В результате у вас должен был получиться такой конвейер команд: `cat anna_words.txt | sort | uniq | wc -l`.\n",
    "\n",
    "Команда cat перенаправляет слова из файла в команду sort, которая сортирует слова и передаёт упорядоченный список в команду uniq. Последняя удаляет дубликаты и направляет список уникальных слов в команду wc −l, которая их считает.\n",
    "\n",
    "### Что нужно сделать\n",
    "\n",
    "Посчитайте количество уникальных слов и определите частоту встречаемости каждого слова. Информацию в виде `частота слово` сохраните в текстовый файл. Для этого:\n",
    "1. Измените конвейер команд так, чтобы он выводил слова и их частоту встречаемости на экран.\n",
    "2. Перенаправьте вывод конвейера в текстовый файл `words_freq.txt`.\n",
    "\n",
    "Если всё сделаете правильно, то получится текстовый файл `words_freq.txt`, в котором будут слова и их частота в виде:\n",
    "\n",
    "```\n",
    "...\n",
    "   1 по-прежнему\n",
    "   2 по-французски\n",
    "  40 аня\n",
    "   6 бал\n",
    "   1 бог\n",
    "   2 ваш\n",
    "   2 вид\n",
    "...\n",
    "```\n",
    "\n",
    "3. Скопируйте конвейер команд в ячейку, которая расположена непосредственно под этой.\n",
    "\n",
    "### Подсказки\n",
    "1. Ознакомьтесь с документацией команды uniq, обратите внимание на её ключ `-с`. Официальную документацию можно почитать прямо в командной строке: для этого выполните команду `man uniq`. Команда `man` (от англ. manual) выводит справку для команды, которая передаётся в man как аргумент. Если читать текст в терминале непривычно, то можете поискать информацию в интернете.\n",
    "\n",
    "2. Перенаправить вывод команды в bash можно с помощью символа `>`. О том, как это сделать, читайте в интернете. Например, в статье [**«Перенаправление ввода вывода Linux»**](https://losst.ru/perenapravlenie-vvoda-vyvoda-linux). "
   ]
  },
  {
   "cell_type": "markdown",
   "id": "ac416392",
   "metadata": {
    "id": "ac416392"
   },
   "source": [
    "### Вставьте конвейер команд, который у вас получился"
   ]
  },
  {
   "cell_type": "code",
   "id": "b9b13546-4933-4e8c-b0a7-62ce13863320",
   "metadata": {
    "id": "b9b13546-4933-4e8c-b0a7-62ce13863320",
    "outputId": "ce4e0dfb-e91d-4337-984a-5d9811bb449b",
    "ExecuteTime": {
     "end_time": "2024-09-15T21:08:26.285825Z",
     "start_time": "2024-09-15T21:08:26.154221Z"
    }
   },
   "source": "!ls\n",
   "outputs": [
    {
     "name": "stdout",
     "output_type": "stream",
     "text": [
      "10.7 Практическая работа.ipynb\r\n",
      "11.7 Практическая работа.ipynb\r\n",
      "7.4 Практическая работа.ipynb\r\n",
      "8.6 Практическая работа.ipynb\r\n",
      "9.8 Практическая работа.ipynb\r\n",
      "anna_words.txt\r\n",
      "learn.ipynb\r\n",
      "main.py\r\n",
      "\u001B[34mvenv\u001B[m\u001B[m\r\n",
      "words_freq.txt\r\n"
     ]
    }
   ],
   "execution_count": 43
  },
  {
   "cell_type": "raw",
   "id": "35aa50c3-7d4e-4667-8157-da4ad8761cdd",
   "metadata": {
    "id": "35aa50c3-7d4e-4667-8157-da4ad8761cdd"
   },
   "source": [
    "##\n",
    "## Вставьте конвейер команд сюда.\n",
    "##"
   ]
  },
  {
   "metadata": {
    "ExecuteTime": {
     "end_time": "2024-09-15T20:46:01.987153Z",
     "start_time": "2024-09-15T20:46:01.848333Z"
    }
   },
   "cell_type": "code",
   "source": [
    "!cat anna_words.txt | sort | uniq  -c   > words_freq.txt\n",
    "\n"
   ],
   "id": "bb3bdc9f558337b9",
   "outputs": [],
   "execution_count": 9
  },
  {
   "cell_type": "markdown",
   "id": "3952c1a6",
   "metadata": {
    "id": "3952c1a6"
   },
   "source": [
    "---\n",
    "\n",
    "## Задание 2. Работа с файлами в Python 1\n",
    "\n",
    "### Что нужно сделать\n",
    "В рассказе А. П. Чехова «Анна на шее» найдите десять слов, которые встречаются чаще всего. \n",
    "\n",
    "1. Напишите код на Python, который читает файл `word_freq.txt` по строкам, преобразует каждую из них в кортеж `(частота, слово)` и складывает полученные кортежи в список. \n",
    "2. Отсортируйте список по частотам, выведите на экран десять самых популярных слов и их частоты.\n",
    "\n",
    "### Подсказки\n",
    "1. Обратите внимание, что строки в файле содержат «лишние» символы: пробелы в начале и символ перевода строки в конце. Работать будет удобнее, если предварительно удалить их. Сделать это можно с помощью метода  `strip`. Ознакомьтесь с ним подробнее в [**официальной документации**](https://docs.python.org/3/library/stdtypes.html?highlight=strip#str.strip).\n",
    "\n",
    "2. Сейчас частота и слово — это одна строка, в которой они разделены пробелом. Их можно разделить с помощью метода [**`split`**](https://docs.python.org/3/library/stdtypes.html?highlight=split#str.split).\n",
    "\n",
    "3. Для сортировки в Python есть функция `sorted`. Она принимает на вход итерируемый объект, сравнивает его элементы между собой и возвращает итерируемый объект, который отсортирован. По умолчанию функция размещает элементы в порядке возрастания. Например, `sorted([2, 4, 1, 0])` вернёт `[0, 1, 2, 4]`. Подробнее про работу функции можно почитать в [**официальной документации**](https://docs.python.org/3/library/functions.html?highlight=sorted#sorted)"
   ]
  },
  {
   "cell_type": "code",
   "id": "c98e4d0b",
   "metadata": {
    "id": "c98e4d0b",
    "ExecuteTime": {
     "end_time": "2024-09-15T21:07:15.314051Z",
     "start_time": "2024-09-15T21:07:15.309917Z"
    }
   },
   "source": [
    "##\n",
    "## Вставьте свой код сюда\n",
    "##\n",
    "with open('words_freq.txt', encoding='utf-8') as file:\n",
    "    list_of_words = []\n",
    "    for line in file.readlines():\n",
    "        list_of_words.append(tuple(line.strip().split()))\n",
    "sorted_words = sorted(list_of_words, key=lambda x: int(x[0]), reverse=True)\n",
    "print(*sorted_words[:10], sep='\\n')\n",
    "\n"
   ],
   "outputs": [
    {
     "name": "stdout",
     "output_type": "stream",
     "text": [
      "('40', 'аня')\n",
      "('28', 'свой')\n",
      "('19', 'говорить')\n",
      "('17', 'это')\n",
      "('17', 'модест')\n",
      "('17', 'который')\n",
      "('17', 'сказать')\n",
      "('17', 'алексеич')\n",
      "('16', 'отец')\n",
      "('16', 'рука')\n"
     ]
    }
   ],
   "execution_count": 42
  },
  {
   "cell_type": "markdown",
   "id": "8639569c",
   "metadata": {
    "id": "8639569c"
   },
   "source": [
    "---\n",
    "\n",
    "## Задание 3. Работа с файлами в Python 2\n",
    "\n",
    "### Что нужно сделать\n",
    "Найдите букву, с которой чаще всего начинаются слова в рассказе А. П. Чехова «Анна на шее». \n",
    "1. Используйте файл с частотами слов `words_freq.txt`. \n",
    "2. Напишите код в Python, который выводит на экран самую популярную первую букву и количество слов на неё.\n",
    "\n",
    "\n",
    "### Подсказки\n",
    "Скорее всего, вы будете искать в словаре ключ с максимальным значением. Чтобы упростить работу, отсортируйте словарь. Сортировать словарь по значениям сложнее, чем список объектов, которые можно сравнивать непосредственно. Обратите внимание на параметр key функции [**sorted**](https://docs.python.org/3/library/functions.html?highlight=sorted#sorted)."
   ]
  },
  {
   "cell_type": "code",
   "id": "6da9050c",
   "metadata": {
    "id": "6da9050c",
    "ExecuteTime": {
     "end_time": "2024-09-16T09:48:21.883714Z",
     "start_time": "2024-09-16T09:48:21.877809Z"
    }
   },
   "source": [
    "##\n",
    "## Вставьте свой код сюда\n",
    "##\n",
    "with open('words_freq.txt', encoding='utf-8') as file:\n",
    "    list_of_words = []\n",
    "    for line in file.readlines():\n",
    "        list_of_words.append(tuple(line.strip().split()))\n",
    "\n",
    "\n",
    "def letters_freq(words):\n",
    "    freq_dict = {}\n",
    "    for count, word in words:\n",
    "        first_letter = word[0].lower()\n",
    "        if first_letter in freq_dict:\n",
    "            freq_dict[first_letter] += 1\n",
    "        else:\n",
    "            freq_dict[first_letter] = 1\n",
    "\n",
    "    return sorted(freq_dict.items(), key=lambda x: -x[1])[0]\n",
    "\n",
    "\n",
    "# print(list_of_words)\n",
    "print(\n",
    "    f'Самая встречающаяся буква, с которой начинаются слова \"{letters_freq(list_of_words)[0]}\", она встречается {letters_freq(list_of_words)[1]} раз.')"
   ],
   "outputs": [
    {
     "name": "stdout",
     "output_type": "stream",
     "text": [
      "Самая встречающаяся буква, с которой начинаются слова \"п\", она встречается 196 раз.\n"
     ]
    }
   ],
   "execution_count": 23
  },
  {
   "cell_type": "markdown",
   "id": "b94a18e9",
   "metadata": {
    "id": "b94a18e9"
   },
   "source": [
    "---\n",
    "\n",
    "## Задание 4. Импортирование модулей\n",
    "\n",
    "###Что нужно сделать\n",
    "Напишите функцию `circ_sqrt`. Она должна принимать один параметр `r` типа `float` и возвращать квадратный корень из длины окружности радиуса `r`.\n",
    "\n",
    "### Подсказки\n",
    "- Используйте функции встроенного модуля math.\n",
    "- В работе функции учтите область определения квадратного корня."
   ]
  },
  {
   "cell_type": "code",
   "id": "f9ddadb6",
   "metadata": {
    "id": "f9ddadb6",
    "ExecuteTime": {
     "end_time": "2024-09-16T09:53:54.078280Z",
     "start_time": "2024-09-16T09:53:54.072118Z"
    }
   },
   "source": [
    "import math\n",
    "\n",
    "\n",
    "def circ_sqrt(r: float):\n",
    "    return math.sqrt(2 * math.pi * r)\n",
    "\n",
    "\n",
    "circ_sqrt(10)"
   ],
   "outputs": [
    {
     "data": {
      "text/plain": [
       "7.926654595212022"
      ]
     },
     "execution_count": 24,
     "metadata": {},
     "output_type": "execute_result"
    }
   ],
   "execution_count": 24
  },
  {
   "cell_type": "markdown",
   "id": "73df457b",
   "metadata": {
    "id": "73df457b"
   },
   "source": [
    "---\n",
    "\n",
    "## Задание 5. Установка внешних модулей через pip\n",
    "\n",
    "### Что нужно сделать\n",
    "\n",
    "Установите пакеты из PyPi с помощью пакетного менеджера pip и используйте их в коде. \n",
    "1. Установите пакет `cowsay`.\n",
    "2. Установите в систему пакет `wikipedia` — Python API для очень популярной онлайн-энциклопедии.\n",
    "3. Напишите функцию `random_article`, которая выводит на экран очень умную корову. Корова должна «рассказывать» краткое содержание случайной статьи из «Википедии» на английском языке.\n",
    "\n",
    "\n",
    "### Подсказки\n",
    "\n",
    "Вам понадобятся следующие функции пакета `wikipedia`:\n",
    "\n",
    "* [**wikipedia.random**](https://wikipedia.readthedocs.io/en/latest/code.html#wikipedia.random)\n",
    "* [**wikipedia.summary**](https://wikipedia.readthedocs.io/en/latest/code.html#wikipedia.summary)"
   ]
  },
  {
   "metadata": {
    "ExecuteTime": {
     "end_time": "2024-09-19T11:22:15.503819Z",
     "start_time": "2024-09-19T11:22:13.965242Z"
    }
   },
   "cell_type": "code",
   "source": [
    "import cowsay\n",
    "import wikipedia\n",
    "\n",
    "\n",
    "def random_article():\n",
    "    r = wikipedia.random(pages=1)\n",
    "    return cowsay.cow(wikipedia.summary(r))\n",
    "\n",
    "\n",
    "random_article()"
   ],
   "id": "c5d4c81f180109a6",
   "outputs": [
    {
     "name": "stdout",
     "output_type": "stream",
     "text": [
      "  _________________________________________________\n",
      " /                                                 \\\n",
      "| The Shorter Mansion is a Classical Revival-style  |\n",
      "| historic house museum in Eufaula, Alabama, United |\n",
      "|  States.  The two-story masonry structure was bui |\n",
      "| lt in 1884 by Eli Sims Shorter II and his wife, W |\n",
      "| ileyna Lamar Shorter, but it burned in 1900. The  |\n",
      "| house as seen today was built in 1906 and was des |\n",
      "| igned by architect Curran R. Ellis of Macon, Geor |\n",
      "| gia.  Eli Sims Shorter died in 1908, but his wife |\n",
      "|  resided in the house until 1927, when it was pas |\n",
      "| sed to their daughter, Fannie Shorter Upshaw.  It |\n",
      "|  was in turn inherited by Upshaw's daughter, Wile |\n",
      "| yna S. Kennedy, in 1959.                          |\n",
      "| The Kennedy family moved away from the city and t |\n",
      "| he house was purchased by the Eufaula Heritage As |\n",
      "| sociation, initially formed in order to buy and r |\n",
      "| estore the house, at auction for $33,000 in 1965. |\n",
      "|   The Eufaula Heritage Association organized the  |\n",
      "| city's first pilgrimage in 1966 and became the pr |\n",
      "| imary historic preservation organization in Eufau |\n",
      "| la, a role it continues to fulfill to the present |\n",
      "|  day. The Association offers tours of the Shorter |\n",
      "|  Mansion year round.                              |\n",
      "| The mansion was added to the National Register of |\n",
      "|  Historic Places on January 14, 1972.             |\n",
      " \\                                                 /\n",
      "  =================================================\n",
      "                                                 \\\n",
      "                                                  \\\n",
      "                                                    ^__^\n",
      "                                                    (oo)\\_______\n",
      "                                                    (__)\\       )\\/\\\n",
      "                                                        ||----w |\n",
      "                                                        ||     ||\n"
     ]
    }
   ],
   "execution_count": 23
  },
  {
   "cell_type": "markdown",
   "id": "af263b7d",
   "metadata": {
    "id": "af263b7d"
   },
   "source": [
    "---\n",
    "\n",
    "## Задание 6. Бонусное\n",
    "\n",
    "### Что нужно сделать\n",
    "\n",
    "Выясните, как слова в рассказе «Анна на шее» распределяются по длине. \n",
    "\n",
    "1. Посчитайте, сколько слов длины 1, 2 и так далее в файле anna_words.txt.\n",
    "\n",
    "2. Выведите на экран информацию в формате `длина количество_слов`, отсортируйте её по возрастанию длины.\n",
    "\n",
    "3. Перенесите вывод программы в Excel или Google Таблицы и постройте столбчатую диаграмму. \n",
    "\n",
    "4. Сравните ваш график с [распределением русских слов по длине](http://nskhuman.ru/unislov/statist.php?nstat=21). В гистограмме по ссылке больше данных, поэтому она лучше показывает соотношение длины слов и их количества в русском языке.\n",
    "\n",
    "### Советы и рекомендации\n",
    "Вероятнее всего, вы снова будете использовать словарь. Ключами в нём будет длина слов, а значениями — количество слов этой длины. Обратите внимание, что словарь нужно сортировать по ключам, а не по значениям, как вы делали ранее."
   ]
  },
  {
   "metadata": {
    "id": "31cd934a",
    "ExecuteTime": {
     "end_time": "2024-09-19T14:27:42.880005Z",
     "start_time": "2024-09-19T14:27:42.734548Z"
    }
   },
   "cell_type": "code",
   "source": [
    "##\n",
    "## Вставьте свой код сюда\n",
    "##\n",
    "import matplotlib.pyplot as plt\n",
    "import numpy as np\n",
    "\n",
    "# Чтение файла и создание словаря len_words\n",
    "with open('words_freq.txt', encoding='utf-8') as file:\n",
    "    list_of_words = []\n",
    "    for line in file.readlines():\n",
    "        list_of_words.append(tuple(line.strip().split()))\n",
    "\n",
    "len_words = {}\n",
    "for word in list_of_words:\n",
    "    if len(word[1]) in len_words:\n",
    "        len_words[len(word[1])] += 1\n",
    "    else:\n",
    "        len_words[len(word[1])] = 1\n",
    "\n",
    "# Сортировка по ключам (длинам слов)\n",
    "sorted_len_words = dict(sorted(len_words.items(), key=lambda x: x[0]))\n",
    "print(sorted_len_words)\n",
    "# Построение графика\n",
    "plt.bar(sorted_len_words.keys(), sorted_len_words.values(), color='skyblue')\n",
    "\n",
    "# Настройка графика\n",
    "plt.xlabel('Длина слова')\n",
    "plt.ylabel('Количество слов')\n",
    "plt.title('Распределение слов по длине')\n",
    "plt.xticks(np.arange(min(sorted_len_words.keys()), max(sorted_len_words.keys()) + 1, 1))\n",
    "\n",
    "# Отображение графика\n",
    "plt.show()\n"
   ],
   "id": "31cd934a",
   "outputs": [
    {
     "name": "stdout",
     "output_type": "stream",
     "text": [
      "{1: 4, 2: 9, 3: 33, 4: 95, 5: 145, 6: 177, 7: 203, 8: 162, 9: 125, 10: 94, 11: 76, 12: 38, 13: 20, 14: 9, 15: 4, 16: 1, 17: 1, 18: 2}\n"
     ]
    },
    {
     "data": {
      "text/plain": [
       "<Figure size 640x480 with 1 Axes>"
      ],
      "image/png": "[encoded data removed]"
     },
     "metadata": {},
     "output_type": "display_data"
    }
   ],
   "execution_count": 21
  },
  {
   "metadata": {},
   "cell_type": "code",
   "outputs": [],
   "execution_count": null,
   "source": "",
   "id": "98a22bd774280928"
  }
 ],
 "metadata": {
  "colab": {
   "collapsed_sections": [],
   "provenance": []
  },
  "kernelspec": {
   "display_name": "Python 3",
   "language": "python",
   "name": "python3"
  },
  "language_info": {
   "codemirror_mode": {
    "name": "ipython",
    "version": 3
   },
   "file_extension": ".py",
   "mimetype": "text/x-python",
   "name": "python",
   "nbconvert_exporter": "python",
   "pygments_lexer": "ipython3",
   "version": "3.8.13"
  }
 },
 "nbformat": 4,
 "nbformat_minor": 5
}
