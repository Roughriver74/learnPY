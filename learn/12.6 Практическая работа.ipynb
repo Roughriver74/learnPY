{
 "nbformat": 4,
 "nbformat_minor": 0,
 "metadata": {
  "colab": {
   "name": "12.6_Домашнее_задание.ipynb",
   "provenance": [],
   "collapsed_sections": []
  },
  "kernelspec": {
   "display_name": "Python 3",
   "language": "python",
   "name": "python3"
  },
  "language_info": {
   "codemirror_mode": {
    "name": "ipython",
    "version": 3
   },
   "file_extension": ".py",
   "mimetype": "text/x-python",
   "name": "python",
   "nbconvert_exporter": "python",
   "pygments_lexer": "ipython3",
   "version": "3.8.8"
  },
  "toc": {
   "base_numbering": 1,
   "nav_menu": {},
   "number_sections": true,
   "sideBar": true,
   "skip_h1_title": false,
   "title_cell": "Table of Contents",
   "title_sidebar": "Contents",
   "toc_cell": false,
   "toc_position": {},
   "toc_section_display": true,
   "toc_window_display": false
  }
 },
 "cells": [
  {
   "cell_type": "markdown",
   "metadata": {
    "id": "zUqy3u0mOqRA"
   },
   "source": [
    "# Pandas. Домашнее задание\n",
    "\n",
    "В домашнем задании есть обязательные и дополнительные задачи.\n",
    "\n",
    "*Обязательные задачи* нужно сделать, чтобы проверить, что вы действительно усвоили материал модуля. Они обязательны к загрузке на проверку преподавателю.\n",
    "\n",
    "*Дополнительные задачи* для тех, кто чувствует, что нужно ещё немного потренироваться и порешать задачки по работе с Pandas. Вы также можете загрузить их на проверку преподавателю и получить по ним обратную связь.\n",
    "\n",
    "Удачи!"
   ]
  },
  {
   "metadata": {
    "ExecuteTime": {
     "end_time": "2024-09-24T17:11:08.587152Z",
     "start_time": "2024-09-24T17:11:08.584761Z"
    }
   },
   "cell_type": "code",
   "source": "",
   "outputs": [],
   "execution_count": null
  },
  {
   "cell_type": "markdown",
   "metadata": {
    "id": "5b2c9q-uRFgE"
   },
   "source": [
    "\n",
    "\n",
    "---\n",
    "\n",
    "\n",
    "\n",
    "---\n",
    "\n"
   ]
  },
  {
   "cell_type": "markdown",
   "metadata": {
    "id": "9YruChoFPlTH"
   },
   "source": [
    "**Цели домашнего задания:**\n",
    "1. Научиться работать с описательными статистиками набора данных.\n",
    "2. Научиться выбирать данные по условиям.\n",
    "3. Научиться объединять несколько датафреймов в один.\n"
   ]
  },
  {
   "cell_type": "markdown",
   "metadata": {
    "id": "s0ln3tQ_QZK4"
   },
   "source": [
    "**Что входит в домашнее задание:**\n",
    "1. *Обязательные задачи*:\n",
    "\n",
    "17 задач с использованием:\n",
    "- набора рекламных данных, показывающих, щелкнул ли конкретный пользователь интернета рекламу на веб-сайте компании или нет,\n",
    "- дополнительного набора данных, описывающего пользователей, посещающих веб-сайт компании.\n",
    "2. *Дополнительные задачи*:\n",
    "\n",
    "3 задачи для отработки исследования данных.\n"
   ]
  },
  {
   "cell_type": "markdown",
   "metadata": {
    "id": "QLCrcUsFLTVr"
   },
   "source": [
    "**Критерии оценки:**\n",
    "- программа выдаёт верный ответ на заданном наборе данных;\n",
    "- код читабелен: переменным даны осмысленные названия, отступы и правила расстановки пробелов соблюдены."
   ]
  },
  {
   "cell_type": "markdown",
   "metadata": {
    "id": "UKH0UuMA7pyF"
   },
   "source": [
    "**Как отправить задание на проверку**\n",
    "\n",
    "Выполните задачи, сохраните изменения при помощи опции Save and Checkpoint из вкладки меню File или кнопки Save and Checkpoint на панели инструментов. Отправьте через форму на платформе итоговый файл Jupyter Notebook (в формате .ipynb) или ссылку на него."
   ]
  },
  {
   "cell_type": "markdown",
   "metadata": {
    "id": "hYa6ZRVRRHbE"
   },
   "source": [
    "\n",
    "\n",
    "---\n",
    "\n",
    "\n",
    "---\n",
    "\n"
   ]
  },
  {
   "cell_type": "markdown",
   "metadata": {
    "id": "UgcrtNvYQ_01"
   },
   "source": [
    "**Обязательные задачи**"
   ]
  },
  {
   "cell_type": "markdown",
   "metadata": {
    "id": "p0t9GY6BOjpL"
   },
   "source": [
    "В течение всего домашнего задания вы будете работать с несколькими наборами данных:\n",
    "1. Набор рекламных данных, показывающих, щёлкнул ли конкретный пользователь рекламу на сайте компании или нет. Состоит из трёх разных файлов: `advertising_1.csv`, `advertising_2.csv`, `advertising_3.csv`.\n",
    "\n",
    "Описание столбцов датасета:\n",
    "- **Number**: Номер пользователя в системе.\n",
    "- **Daily Time Spent on Site**: Среднее ежедневное время нахождения пользователя на сайте в минутах.\n",
    "- **Daily Internet Usage**: Среднее ежедневное время нахождения пользователя в интернете в минутах.\n",
    "- **Ad Topic Line**: Заголовок рекламного объявления.\n",
    "- **Clicked on Ad**: Кликнул пользователь на рекламу или нет.\n",
    "\n",
    "Дополнительный к рекламным данным датасет, который описывает пользователей, посещающих сайт компании. Состоит из одного файла: users.csv.\n",
    "\n",
    "Описание столбцов датасета:\n",
    "- **Number**: Номер пользователя в системе.\n",
    "- **Age**: Возраст пользователя.\n",
    "- **Male**: Является ли пользователь мужчиной.\n",
    "- **City**: Город пользователя.\n",
    "- **Country**: Страна пользователя.\n",
    "- **Area Income**: Средний доход в месте жительства пользователя.\n"
   ]
  },
  {
   "cell_type": "markdown",
   "metadata": {
    "id": "kr8Q_RUzOjpM"
   },
   "source": [
    "***Задача 1***\n",
    "\n",
    "Загрузите таблицу из файла `advertising_1.csv` и сохраните её в датафрейм `adv1_df`. Укажите в качестве индекса столбец `Number`. Выведите на экран первые десять строк.\n"
   ]
  },
  {
   "cell_type": "code",
   "metadata": {
    "id": "hLC8F1acOjpN",
    "ExecuteTime": {
     "end_time": "2024-09-24T17:11:09.363358Z",
     "start_time": "2024-09-24T17:11:08.605851Z"
    }
   },
   "source": [
    "import pandas as pd\n",
    "\n",
    "adv1_df = pd.read_csv('12.6 Данные для домашнего задания/advertising_1.csv', index_col='Number')\n",
    "adv1_df\n"
   ],
   "outputs": [
    {
     "data": {
      "text/plain": [
       "        Daily Time Spent on Site  Daily Internet Usage  \\\n",
       "Number                                                   \n",
       "5                          68.95                256.09   \n",
       "6                          80.23                193.77   \n",
       "8                          74.15                245.89   \n",
       "9                            NaN                225.58   \n",
       "10                         59.99                226.74   \n",
       "...                          ...                   ...   \n",
       "525                        46.61                136.18   \n",
       "526                        63.26                120.46   \n",
       "527                        79.16                202.90   \n",
       "528                        67.94                128.16   \n",
       "529                        79.91                230.18   \n",
       "\n",
       "                                Ad Topic Line  Clicked on Ad  \n",
       "Number                                                        \n",
       "5          Cloned 5thgeneration orchestration              0  \n",
       "6          Monitored national standardization              0  \n",
       "8       Triple-buffered reciprocal time-frame              0  \n",
       "9               Robust logistical utilization              0  \n",
       "10            Sharable client-driven software              0  \n",
       "...                                       ...            ...  \n",
       "525       Progressive intermediate throughput              1  \n",
       "526             Customizable holistic archive              1  \n",
       "527           Compatible intermediate concept              0  \n",
       "528      Assimilated next generation firmware              1  \n",
       "529        Total zero administration software              0  \n",
       "\n",
       "[500 rows x 4 columns]"
      ],
      "text/html": [
       "<div>\n",
       "<style scoped>\n",
       "    .dataframe tbody tr th:only-of-type {\n",
       "        vertical-align: middle;\n",
       "    }\n",
       "\n",
       "    .dataframe tbody tr th {\n",
       "        vertical-align: top;\n",
       "    }\n",
       "\n",
       "    .dataframe thead th {\n",
       "        text-align: right;\n",
       "    }\n",
       "</style>\n",
       "<table border=\"1\" class=\"dataframe\">\n",
       "  <thead>\n",
       "    <tr style=\"text-align: right;\">\n",
       "      <th></th>\n",
       "      <th>Daily Time Spent on Site</th>\n",
       "      <th>Daily Internet Usage</th>\n",
       "      <th>Ad Topic Line</th>\n",
       "      <th>Clicked on Ad</th>\n",
       "    </tr>\n",
       "    <tr>\n",
       "      <th>Number</th>\n",
       "      <th></th>\n",
       "      <th></th>\n",
       "      <th></th>\n",
       "      <th></th>\n",
       "    </tr>\n",
       "  </thead>\n",
       "  <tbody>\n",
       "    <tr>\n",
       "      <th>5</th>\n",
       "      <td>68.95</td>\n",
       "      <td>256.09</td>\n",
       "      <td>Cloned 5thgeneration orchestration</td>\n",
       "      <td>0</td>\n",
       "    </tr>\n",
       "    <tr>\n",
       "      <th>6</th>\n",
       "      <td>80.23</td>\n",
       "      <td>193.77</td>\n",
       "      <td>Monitored national standardization</td>\n",
       "      <td>0</td>\n",
       "    </tr>\n",
       "    <tr>\n",
       "      <th>8</th>\n",
       "      <td>74.15</td>\n",
       "      <td>245.89</td>\n",
       "      <td>Triple-buffered reciprocal time-frame</td>\n",
       "      <td>0</td>\n",
       "    </tr>\n",
       "    <tr>\n",
       "      <th>9</th>\n",
       "      <td>NaN</td>\n",
       "      <td>225.58</td>\n",
       "      <td>Robust logistical utilization</td>\n",
       "      <td>0</td>\n",
       "    </tr>\n",
       "    <tr>\n",
       "      <th>10</th>\n",
       "      <td>59.99</td>\n",
       "      <td>226.74</td>\n",
       "      <td>Sharable client-driven software</td>\n",
       "      <td>0</td>\n",
       "    </tr>\n",
       "    <tr>\n",
       "      <th>...</th>\n",
       "      <td>...</td>\n",
       "      <td>...</td>\n",
       "      <td>...</td>\n",
       "      <td>...</td>\n",
       "    </tr>\n",
       "    <tr>\n",
       "      <th>525</th>\n",
       "      <td>46.61</td>\n",
       "      <td>136.18</td>\n",
       "      <td>Progressive intermediate throughput</td>\n",
       "      <td>1</td>\n",
       "    </tr>\n",
       "    <tr>\n",
       "      <th>526</th>\n",
       "      <td>63.26</td>\n",
       "      <td>120.46</td>\n",
       "      <td>Customizable holistic archive</td>\n",
       "      <td>1</td>\n",
       "    </tr>\n",
       "    <tr>\n",
       "      <th>527</th>\n",
       "      <td>79.16</td>\n",
       "      <td>202.90</td>\n",
       "      <td>Compatible intermediate concept</td>\n",
       "      <td>0</td>\n",
       "    </tr>\n",
       "    <tr>\n",
       "      <th>528</th>\n",
       "      <td>67.94</td>\n",
       "      <td>128.16</td>\n",
       "      <td>Assimilated next generation firmware</td>\n",
       "      <td>1</td>\n",
       "    </tr>\n",
       "    <tr>\n",
       "      <th>529</th>\n",
       "      <td>79.91</td>\n",
       "      <td>230.18</td>\n",
       "      <td>Total zero administration software</td>\n",
       "      <td>0</td>\n",
       "    </tr>\n",
       "  </tbody>\n",
       "</table>\n",
       "<p>500 rows × 4 columns</p>\n",
       "</div>"
      ]
     },
     "execution_count": 3,
     "metadata": {},
     "output_type": "execute_result"
    }
   ],
   "execution_count": 3
  },
  {
   "cell_type": "markdown",
   "metadata": {
    "id": "cViBXi62OjpP"
   },
   "source": [
    "***Задача 2***\n",
    "\n",
    "Выведите размер датафрейма `adv1_df`."
   ]
  },
  {
   "cell_type": "code",
   "metadata": {
    "id": "Tx2VYklzOjpQ",
    "ExecuteTime": {
     "end_time": "2024-09-24T17:11:09.377288Z",
     "start_time": "2024-09-24T17:11:09.374741Z"
    }
   },
   "source": "adv1_df.size",
   "outputs": [
    {
     "data": {
      "text/plain": [
       "2000"
      ]
     },
     "execution_count": 4,
     "metadata": {},
     "output_type": "execute_result"
    }
   ],
   "execution_count": 4
  },
  {
   "cell_type": "markdown",
   "metadata": {
    "ExecuteTime": {
     "end_time": "2021-10-24T10:44:08.227238Z",
     "start_time": "2021-10-24T10:44:08.222208Z"
    },
    "id": "g6aonGrwOjpR"
   },
   "source": [
    "***Задача 3***\n",
    "\n",
    "Выведите cреднее ежедневное время нахождения в интернете пользователя под номером 8."
   ]
  },
  {
   "cell_type": "code",
   "metadata": {
    "id": "VMD2ymWQOjpR",
    "ExecuteTime": {
     "end_time": "2024-09-24T17:11:09.469818Z",
     "start_time": "2024-09-24T17:11:09.467187Z"
    }
   },
   "source": "adv1_df.loc[8, 'Daily Time Spent on Site']",
   "outputs": [
    {
     "data": {
      "text/plain": [
       "np.float64(74.15)"
      ]
     },
     "execution_count": 5,
     "metadata": {},
     "output_type": "execute_result"
    }
   ],
   "execution_count": 5
  },
  {
   "cell_type": "markdown",
   "metadata": {
    "id": "BiUTqgnWOjpS"
   },
   "source": [
    "***Задача 4***\n",
    "\n",
    "Загрузите таблицу из файла `advertising_2.csv` и сохраните её в датафрейм `adv2_df`. Укажите в качестве индекса стоблец `Number`. Выведите на экран строки для пользователей с номерами с 533-го по 536-й."
   ]
  },
  {
   "cell_type": "code",
   "metadata": {
    "id": "163Nee-yOjpS",
    "ExecuteTime": {
     "end_time": "2024-09-24T17:11:09.581434Z",
     "start_time": "2024-09-24T17:11:09.574735Z"
    }
   },
   "source": [
    "adv2_df = pd.read_csv('12.6 Данные для домашнего задания/advertising_2.csv', index_col='Number')\n",
    "\n",
    "adv2_df.loc[533:536]"
   ],
   "outputs": [
    {
     "data": {
      "text/plain": [
       "        Daily Time Spent on Site  Daily Internet Usage  \\\n",
       "Number                                                   \n",
       "533                        46.61                   NaN   \n",
       "534                          NaN                162.03   \n",
       "535                        65.10                118.10   \n",
       "536                        53.44                   NaN   \n",
       "\n",
       "                                Ad Topic Line  Clicked on Ad  \n",
       "Number                                                        \n",
       "533             Ergonomic methodical encoding              1  \n",
       "534         Compatible dedicated productivity              0  \n",
       "535            Up-sized real-time methodology              1  \n",
       "536     Up-sized next generation architecture              1  "
      ],
      "text/html": [
       "<div>\n",
       "<style scoped>\n",
       "    .dataframe tbody tr th:only-of-type {\n",
       "        vertical-align: middle;\n",
       "    }\n",
       "\n",
       "    .dataframe tbody tr th {\n",
       "        vertical-align: top;\n",
       "    }\n",
       "\n",
       "    .dataframe thead th {\n",
       "        text-align: right;\n",
       "    }\n",
       "</style>\n",
       "<table border=\"1\" class=\"dataframe\">\n",
       "  <thead>\n",
       "    <tr style=\"text-align: right;\">\n",
       "      <th></th>\n",
       "      <th>Daily Time Spent on Site</th>\n",
       "      <th>Daily Internet Usage</th>\n",
       "      <th>Ad Topic Line</th>\n",
       "      <th>Clicked on Ad</th>\n",
       "    </tr>\n",
       "    <tr>\n",
       "      <th>Number</th>\n",
       "      <th></th>\n",
       "      <th></th>\n",
       "      <th></th>\n",
       "      <th></th>\n",
       "    </tr>\n",
       "  </thead>\n",
       "  <tbody>\n",
       "    <tr>\n",
       "      <th>533</th>\n",
       "      <td>46.61</td>\n",
       "      <td>NaN</td>\n",
       "      <td>Ergonomic methodical encoding</td>\n",
       "      <td>1</td>\n",
       "    </tr>\n",
       "    <tr>\n",
       "      <th>534</th>\n",
       "      <td>NaN</td>\n",
       "      <td>162.03</td>\n",
       "      <td>Compatible dedicated productivity</td>\n",
       "      <td>0</td>\n",
       "    </tr>\n",
       "    <tr>\n",
       "      <th>535</th>\n",
       "      <td>65.10</td>\n",
       "      <td>118.10</td>\n",
       "      <td>Up-sized real-time methodology</td>\n",
       "      <td>1</td>\n",
       "    </tr>\n",
       "    <tr>\n",
       "      <th>536</th>\n",
       "      <td>53.44</td>\n",
       "      <td>NaN</td>\n",
       "      <td>Up-sized next generation architecture</td>\n",
       "      <td>1</td>\n",
       "    </tr>\n",
       "  </tbody>\n",
       "</table>\n",
       "</div>"
      ]
     },
     "execution_count": 6,
     "metadata": {},
     "output_type": "execute_result"
    }
   ],
   "execution_count": 6
  },
  {
   "cell_type": "markdown",
   "metadata": {
    "id": "Z-GqzM_oOjpT"
   },
   "source": [
    "***Задача 5***\n",
    "\n",
    "Выведите сводную таблицу описательных статистик для датафрейма `adv2_df`, вызвав необходимый метод на всём датафрейме. \n",
    "\n",
    "Глядя на вывод, напишите, столбец с каким названием не содержит незаполненных значений.\n",
    "\n",
    "*Подсказка:*  В сводной таблице не содержится информации о количестве строк всего датафрейма, поэтому для сначала распечатайте общее количество строк датафрейма.\n",
    "\n",
    "*Рекомендация:* Кроме изученного метода `describe` для описания датафрейма и получения информации о пропущенных значениях полезен метод [`info`](https://pandas.pydata.org/docs/reference/api/pandas.DataFrame.info.html)."
   ]
  },
  {
   "cell_type": "code",
   "metadata": {
    "id": "ffzR3QR4OjpU",
    "ExecuteTime": {
     "end_time": "2024-09-24T17:11:09.684962Z",
     "start_time": "2024-09-24T17:11:09.674863Z"
    }
   },
   "source": [
    "# Получаем общее количество строк в датафрейме\n",
    "print(f\"Общее количество строк: {adv2_df.shape[0]}\")\n",
    "\n",
    "# Создаем сводную таблицу описательных статистик для всех столбцов\n",
    "adv2_df.describe()\n",
    "\n",
    "# Проверяем, какие столбцы не содержат пропущенных значений с помощью метода info()\n",
    "adv2_df.info()\n",
    "\n",
    "\n",
    "\n"
   ],
   "outputs": [
    {
     "name": "stdout",
     "output_type": "stream",
     "text": [
      "Общее количество строк: 200\n",
      "<class 'pandas.core.frame.DataFrame'>\n",
      "Index: 200 entries, 530 to 739\n",
      "Data columns (total 4 columns):\n",
      " #   Column                    Non-Null Count  Dtype  \n",
      "---  ------                    --------------  -----  \n",
      " 0   Daily Time Spent on Site  184 non-null    float64\n",
      " 1   Daily Internet Usage      184 non-null    float64\n",
      " 2   Ad Topic Line             200 non-null    object \n",
      " 3   Clicked on Ad             200 non-null    int64  \n",
      "dtypes: float64(2), int64(1), object(1)\n",
      "memory usage: 15.9+ KB\n"
     ]
    }
   ],
   "execution_count": 7
  },
  {
   "metadata": {
    "ExecuteTime": {
     "end_time": "2024-09-24T17:11:09.820101Z",
     "start_time": "2024-09-24T17:11:09.818585Z"
    }
   },
   "cell_type": "code",
   "source": "\n",
   "outputs": [],
   "execution_count": 7
  },
  {
   "cell_type": "markdown",
   "metadata": {
    "id": "jZRi7W6hOjpV"
   },
   "source": [
    "***Задача 6***\n",
    "\n",
    "Добавьте к датафрейму `adv1_df` в конец датафрейм `adv2_df` с помощью метода `append`. \n",
    "\n",
    "Сохраните объединенный датафрейм в новой переменной `adv12_df` и распечатайте его."
   ]
  },
  {
   "cell_type": "code",
   "metadata": {
    "id": "Pdzid3aeOjpV",
    "ExecuteTime": {
     "end_time": "2024-09-24T17:11:09.876840Z",
     "start_time": "2024-09-24T17:11:09.871527Z"
    }
   },
   "source": [
    "adv12_df = pd.concat([adv1_df, adv2_df])\n",
    "adv12_df"
   ],
   "outputs": [
    {
     "data": {
      "text/plain": [
       "        Daily Time Spent on Site  Daily Internet Usage  \\\n",
       "Number                                                   \n",
       "5                          68.95                256.09   \n",
       "6                          80.23                193.77   \n",
       "8                          74.15                245.89   \n",
       "9                            NaN                225.58   \n",
       "10                         59.99                226.74   \n",
       "...                          ...                   ...   \n",
       "735                        65.53                190.17   \n",
       "736                        61.87                   NaN   \n",
       "737                        83.16                   NaN   \n",
       "738                        44.11                121.24   \n",
       "739                        56.57                131.98   \n",
       "\n",
       "                                    Ad Topic Line  Clicked on Ad  \n",
       "Number                                                            \n",
       "5              Cloned 5thgeneration orchestration              0  \n",
       "6              Monitored national standardization              0  \n",
       "8           Triple-buffered reciprocal time-frame              0  \n",
       "9                   Robust logistical utilization              0  \n",
       "10                Sharable client-driven software              0  \n",
       "...                                           ...            ...  \n",
       "735        Pre-emptive client-server installation              0  \n",
       "736     Multi-channeled attitude-oriented toolset              0  \n",
       "737                 Decentralized 24hour approach              0  \n",
       "738                Organic next generation matrix              1  \n",
       "739          Multi-channeled non-volatile website              1  \n",
       "\n",
       "[700 rows x 4 columns]"
      ],
      "text/html": [
       "<div>\n",
       "<style scoped>\n",
       "    .dataframe tbody tr th:only-of-type {\n",
       "        vertical-align: middle;\n",
       "    }\n",
       "\n",
       "    .dataframe tbody tr th {\n",
       "        vertical-align: top;\n",
       "    }\n",
       "\n",
       "    .dataframe thead th {\n",
       "        text-align: right;\n",
       "    }\n",
       "</style>\n",
       "<table border=\"1\" class=\"dataframe\">\n",
       "  <thead>\n",
       "    <tr style=\"text-align: right;\">\n",
       "      <th></th>\n",
       "      <th>Daily Time Spent on Site</th>\n",
       "      <th>Daily Internet Usage</th>\n",
       "      <th>Ad Topic Line</th>\n",
       "      <th>Clicked on Ad</th>\n",
       "    </tr>\n",
       "    <tr>\n",
       "      <th>Number</th>\n",
       "      <th></th>\n",
       "      <th></th>\n",
       "      <th></th>\n",
       "      <th></th>\n",
       "    </tr>\n",
       "  </thead>\n",
       "  <tbody>\n",
       "    <tr>\n",
       "      <th>5</th>\n",
       "      <td>68.95</td>\n",
       "      <td>256.09</td>\n",
       "      <td>Cloned 5thgeneration orchestration</td>\n",
       "      <td>0</td>\n",
       "    </tr>\n",
       "    <tr>\n",
       "      <th>6</th>\n",
       "      <td>80.23</td>\n",
       "      <td>193.77</td>\n",
       "      <td>Monitored national standardization</td>\n",
       "      <td>0</td>\n",
       "    </tr>\n",
       "    <tr>\n",
       "      <th>8</th>\n",
       "      <td>74.15</td>\n",
       "      <td>245.89</td>\n",
       "      <td>Triple-buffered reciprocal time-frame</td>\n",
       "      <td>0</td>\n",
       "    </tr>\n",
       "    <tr>\n",
       "      <th>9</th>\n",
       "      <td>NaN</td>\n",
       "      <td>225.58</td>\n",
       "      <td>Robust logistical utilization</td>\n",
       "      <td>0</td>\n",
       "    </tr>\n",
       "    <tr>\n",
       "      <th>10</th>\n",
       "      <td>59.99</td>\n",
       "      <td>226.74</td>\n",
       "      <td>Sharable client-driven software</td>\n",
       "      <td>0</td>\n",
       "    </tr>\n",
       "    <tr>\n",
       "      <th>...</th>\n",
       "      <td>...</td>\n",
       "      <td>...</td>\n",
       "      <td>...</td>\n",
       "      <td>...</td>\n",
       "    </tr>\n",
       "    <tr>\n",
       "      <th>735</th>\n",
       "      <td>65.53</td>\n",
       "      <td>190.17</td>\n",
       "      <td>Pre-emptive client-server installation</td>\n",
       "      <td>0</td>\n",
       "    </tr>\n",
       "    <tr>\n",
       "      <th>736</th>\n",
       "      <td>61.87</td>\n",
       "      <td>NaN</td>\n",
       "      <td>Multi-channeled attitude-oriented toolset</td>\n",
       "      <td>0</td>\n",
       "    </tr>\n",
       "    <tr>\n",
       "      <th>737</th>\n",
       "      <td>83.16</td>\n",
       "      <td>NaN</td>\n",
       "      <td>Decentralized 24hour approach</td>\n",
       "      <td>0</td>\n",
       "    </tr>\n",
       "    <tr>\n",
       "      <th>738</th>\n",
       "      <td>44.11</td>\n",
       "      <td>121.24</td>\n",
       "      <td>Organic next generation matrix</td>\n",
       "      <td>1</td>\n",
       "    </tr>\n",
       "    <tr>\n",
       "      <th>739</th>\n",
       "      <td>56.57</td>\n",
       "      <td>131.98</td>\n",
       "      <td>Multi-channeled non-volatile website</td>\n",
       "      <td>1</td>\n",
       "    </tr>\n",
       "  </tbody>\n",
       "</table>\n",
       "<p>700 rows × 4 columns</p>\n",
       "</div>"
      ]
     },
     "execution_count": 8,
     "metadata": {},
     "output_type": "execute_result"
    }
   ],
   "execution_count": 8
  },
  {
   "cell_type": "markdown",
   "metadata": {
    "id": "1Z8KPJzgOjpV"
   },
   "source": [
    "***Задача 7***\n",
    "\n",
    "Для объединённого датафрейма `adv12_df` распечатайте среднее время, проводимое пользователем на сайте компании."
   ]
  },
  {
   "cell_type": "code",
   "metadata": {
    "id": "-eKw3Vs5OjpV",
    "ExecuteTime": {
     "end_time": "2024-09-24T17:15:22.084647Z",
     "start_time": "2024-09-24T17:15:22.081466Z"
    }
   },
   "source": "print(f'Среднее время проводимое пользователем на сайте: {adv12_df['Daily Time Spent on Site'].mean():.2f}')\n",
   "outputs": [
    {
     "name": "stdout",
     "output_type": "stream",
     "text": [
      "Среднее время проводимое польщователем на сайте: 65.57\n"
     ]
    }
   ],
   "execution_count": 30
  },
  {
   "cell_type": "markdown",
   "metadata": {
    "id": "45BOoBbNOjpW"
   },
   "source": [
    "***Задача 8***\n",
    "\n",
    "Из объединённого датафрейма `adv12_df` выберите и распечатайте строки только с теми пользователями, для которых неизвестно среднее ежедневное время, проводимое пользователем на сайте компании."
   ]
  },
  {
   "cell_type": "code",
   "metadata": {
    "id": "gNVYkRPXOjpW",
    "ExecuteTime": {
     "end_time": "2024-09-24T17:28:28.249784Z",
     "start_time": "2024-09-24T17:28:28.243711Z"
    }
   },
   "source": [
    "\n",
    "filtered_df = adv12_df.dropna(subset=['Daily Time Spent on Site'])\n",
    "filtered_df"
   ],
   "outputs": [
    {
     "data": {
      "text/plain": [
       "        Daily Time Spent on Site  Daily Internet Usage  \\\n",
       "Number                                                   \n",
       "5                          68.95                256.09   \n",
       "6                          80.23                193.77   \n",
       "8                          74.15                245.89   \n",
       "10                         59.99                226.74   \n",
       "11                         88.91                208.36   \n",
       "...                          ...                   ...   \n",
       "735                        65.53                190.17   \n",
       "736                        61.87                   NaN   \n",
       "737                        83.16                   NaN   \n",
       "738                        44.11                121.24   \n",
       "739                        56.57                131.98   \n",
       "\n",
       "                                    Ad Topic Line  Clicked on Ad  \n",
       "Number                                                            \n",
       "5              Cloned 5thgeneration orchestration              0  \n",
       "6              Monitored national standardization              0  \n",
       "8           Triple-buffered reciprocal time-frame              0  \n",
       "10                Sharable client-driven software              0  \n",
       "11                     Enhanced dedicated support              0  \n",
       "...                                           ...            ...  \n",
       "735        Pre-emptive client-server installation              0  \n",
       "736     Multi-channeled attitude-oriented toolset              0  \n",
       "737                 Decentralized 24hour approach              0  \n",
       "738                Organic next generation matrix              1  \n",
       "739          Multi-channeled non-volatile website              1  \n",
       "\n",
       "[634 rows x 4 columns]"
      ],
      "text/html": [
       "<div>\n",
       "<style scoped>\n",
       "    .dataframe tbody tr th:only-of-type {\n",
       "        vertical-align: middle;\n",
       "    }\n",
       "\n",
       "    .dataframe tbody tr th {\n",
       "        vertical-align: top;\n",
       "    }\n",
       "\n",
       "    .dataframe thead th {\n",
       "        text-align: right;\n",
       "    }\n",
       "</style>\n",
       "<table border=\"1\" class=\"dataframe\">\n",
       "  <thead>\n",
       "    <tr style=\"text-align: right;\">\n",
       "      <th></th>\n",
       "      <th>Daily Time Spent on Site</th>\n",
       "      <th>Daily Internet Usage</th>\n",
       "      <th>Ad Topic Line</th>\n",
       "      <th>Clicked on Ad</th>\n",
       "    </tr>\n",
       "    <tr>\n",
       "      <th>Number</th>\n",
       "      <th></th>\n",
       "      <th></th>\n",
       "      <th></th>\n",
       "      <th></th>\n",
       "    </tr>\n",
       "  </thead>\n",
       "  <tbody>\n",
       "    <tr>\n",
       "      <th>5</th>\n",
       "      <td>68.95</td>\n",
       "      <td>256.09</td>\n",
       "      <td>Cloned 5thgeneration orchestration</td>\n",
       "      <td>0</td>\n",
       "    </tr>\n",
       "    <tr>\n",
       "      <th>6</th>\n",
       "      <td>80.23</td>\n",
       "      <td>193.77</td>\n",
       "      <td>Monitored national standardization</td>\n",
       "      <td>0</td>\n",
       "    </tr>\n",
       "    <tr>\n",
       "      <th>8</th>\n",
       "      <td>74.15</td>\n",
       "      <td>245.89</td>\n",
       "      <td>Triple-buffered reciprocal time-frame</td>\n",
       "      <td>0</td>\n",
       "    </tr>\n",
       "    <tr>\n",
       "      <th>10</th>\n",
       "      <td>59.99</td>\n",
       "      <td>226.74</td>\n",
       "      <td>Sharable client-driven software</td>\n",
       "      <td>0</td>\n",
       "    </tr>\n",
       "    <tr>\n",
       "      <th>11</th>\n",
       "      <td>88.91</td>\n",
       "      <td>208.36</td>\n",
       "      <td>Enhanced dedicated support</td>\n",
       "      <td>0</td>\n",
       "    </tr>\n",
       "    <tr>\n",
       "      <th>...</th>\n",
       "      <td>...</td>\n",
       "      <td>...</td>\n",
       "      <td>...</td>\n",
       "      <td>...</td>\n",
       "    </tr>\n",
       "    <tr>\n",
       "      <th>735</th>\n",
       "      <td>65.53</td>\n",
       "      <td>190.17</td>\n",
       "      <td>Pre-emptive client-server installation</td>\n",
       "      <td>0</td>\n",
       "    </tr>\n",
       "    <tr>\n",
       "      <th>736</th>\n",
       "      <td>61.87</td>\n",
       "      <td>NaN</td>\n",
       "      <td>Multi-channeled attitude-oriented toolset</td>\n",
       "      <td>0</td>\n",
       "    </tr>\n",
       "    <tr>\n",
       "      <th>737</th>\n",
       "      <td>83.16</td>\n",
       "      <td>NaN</td>\n",
       "      <td>Decentralized 24hour approach</td>\n",
       "      <td>0</td>\n",
       "    </tr>\n",
       "    <tr>\n",
       "      <th>738</th>\n",
       "      <td>44.11</td>\n",
       "      <td>121.24</td>\n",
       "      <td>Organic next generation matrix</td>\n",
       "      <td>1</td>\n",
       "    </tr>\n",
       "    <tr>\n",
       "      <th>739</th>\n",
       "      <td>56.57</td>\n",
       "      <td>131.98</td>\n",
       "      <td>Multi-channeled non-volatile website</td>\n",
       "      <td>1</td>\n",
       "    </tr>\n",
       "  </tbody>\n",
       "</table>\n",
       "<p>634 rows × 4 columns</p>\n",
       "</div>"
      ]
     },
     "execution_count": 34,
     "metadata": {},
     "output_type": "execute_result"
    }
   ],
   "execution_count": 34
  },
  {
   "cell_type": "markdown",
   "metadata": {
    "id": "bi0CQTuIOjpX"
   },
   "source": [
    "***Задача 9***\n",
    "\n",
    "Загрузите таблицу из файла `advertising_3.csv` и сохраните её в датафрейм `adv3_df`. Укажите в качестве индекса стоблец `Number`. Выведите на экран столбцы `Ad Topic Line` и `Clicked on Ad`."
   ]
  },
  {
   "cell_type": "code",
   "metadata": {
    "id": "5QhJpljHOjpX",
    "ExecuteTime": {
     "end_time": "2024-09-24T17:41:41.202728Z",
     "start_time": "2024-09-24T17:41:41.196671Z"
    }
   },
   "source": [
    "adv3_df = pd.read_csv('12.6 Данные для домашнего задания/advertising_3.csv', index_col='Number')\n",
    "adv3_df[['Ad Topic Line', 'Clicked on Ad']]"
   ],
   "outputs": [
    {
     "data": {
      "text/plain": [
       "                                       Ad Topic Line  Clicked on Ad\n",
       "Number                                                             \n",
       "740                 Distributed bifurcated challenge              0\n",
       "741       Customizable zero-defect Internet solution              0\n",
       "742     Self-enabling zero administration neural-net              1\n",
       "744           Open-architected system-worthy ability              0\n",
       "745               Quality-focused maximized extranet              1\n",
       "...                                              ...            ...\n",
       "999                    Front-line bifurcated ability              1\n",
       "1000                   Fundamental modular algorithm              1\n",
       "1001                 Grass-roots cohesive monitoring              1\n",
       "1002                    Expanded intangible solution              1\n",
       "1003            Proactive bandwidth-monitored policy              0\n",
       "\n",
       "[251 rows x 2 columns]"
      ],
      "text/html": [
       "<div>\n",
       "<style scoped>\n",
       "    .dataframe tbody tr th:only-of-type {\n",
       "        vertical-align: middle;\n",
       "    }\n",
       "\n",
       "    .dataframe tbody tr th {\n",
       "        vertical-align: top;\n",
       "    }\n",
       "\n",
       "    .dataframe thead th {\n",
       "        text-align: right;\n",
       "    }\n",
       "</style>\n",
       "<table border=\"1\" class=\"dataframe\">\n",
       "  <thead>\n",
       "    <tr style=\"text-align: right;\">\n",
       "      <th></th>\n",
       "      <th>Ad Topic Line</th>\n",
       "      <th>Clicked on Ad</th>\n",
       "    </tr>\n",
       "    <tr>\n",
       "      <th>Number</th>\n",
       "      <th></th>\n",
       "      <th></th>\n",
       "    </tr>\n",
       "  </thead>\n",
       "  <tbody>\n",
       "    <tr>\n",
       "      <th>740</th>\n",
       "      <td>Distributed bifurcated challenge</td>\n",
       "      <td>0</td>\n",
       "    </tr>\n",
       "    <tr>\n",
       "      <th>741</th>\n",
       "      <td>Customizable zero-defect Internet solution</td>\n",
       "      <td>0</td>\n",
       "    </tr>\n",
       "    <tr>\n",
       "      <th>742</th>\n",
       "      <td>Self-enabling zero administration neural-net</td>\n",
       "      <td>1</td>\n",
       "    </tr>\n",
       "    <tr>\n",
       "      <th>744</th>\n",
       "      <td>Open-architected system-worthy ability</td>\n",
       "      <td>0</td>\n",
       "    </tr>\n",
       "    <tr>\n",
       "      <th>745</th>\n",
       "      <td>Quality-focused maximized extranet</td>\n",
       "      <td>1</td>\n",
       "    </tr>\n",
       "    <tr>\n",
       "      <th>...</th>\n",
       "      <td>...</td>\n",
       "      <td>...</td>\n",
       "    </tr>\n",
       "    <tr>\n",
       "      <th>999</th>\n",
       "      <td>Front-line bifurcated ability</td>\n",
       "      <td>1</td>\n",
       "    </tr>\n",
       "    <tr>\n",
       "      <th>1000</th>\n",
       "      <td>Fundamental modular algorithm</td>\n",
       "      <td>1</td>\n",
       "    </tr>\n",
       "    <tr>\n",
       "      <th>1001</th>\n",
       "      <td>Grass-roots cohesive monitoring</td>\n",
       "      <td>1</td>\n",
       "    </tr>\n",
       "    <tr>\n",
       "      <th>1002</th>\n",
       "      <td>Expanded intangible solution</td>\n",
       "      <td>1</td>\n",
       "    </tr>\n",
       "    <tr>\n",
       "      <th>1003</th>\n",
       "      <td>Proactive bandwidth-monitored policy</td>\n",
       "      <td>0</td>\n",
       "    </tr>\n",
       "  </tbody>\n",
       "</table>\n",
       "<p>251 rows × 2 columns</p>\n",
       "</div>"
      ]
     },
     "execution_count": 46,
     "metadata": {},
     "output_type": "execute_result"
    }
   ],
   "execution_count": 46
  },
  {
   "cell_type": "markdown",
   "metadata": {
    "ExecuteTime": {
     "end_time": "2021-10-24T12:58:20.476305Z",
     "start_time": "2021-10-24T12:58:20.469693Z"
    },
    "id": "ni-452GIOjpX"
   },
   "source": [
    "***Задача 10***\n",
    "\n",
    "Добавьте к датафрейму `adv12_df` в конец датафрейм `adv3_df` с помощью метода `concat`. Явно пропишите значение параметра `axis`.\n",
    "\n",
    "Сохраните объединённый датафрейм в новой переменной `adv123_df` и распечатайте его."
   ]
  },
  {
   "cell_type": "code",
   "metadata": {
    "id": "FGRZ6HkDOjpY",
    "ExecuteTime": {
     "end_time": "2024-09-24T17:11:10.062401Z",
     "start_time": "2024-09-24T17:11:10.060625Z"
    }
   },
   "source": [
    "# Ваш код здесь"
   ],
   "outputs": [],
   "execution_count": 12
  },
  {
   "cell_type": "markdown",
   "metadata": {
    "id": "_oRCVzahOjpY"
   },
   "source": [
    "***Задача 11***\n",
    "\n",
    "Для объединённого датафрейма `adv123_df` выберите только те строки, в которых пользователи кликнули на рекламное сообщение. Сохраните полученный результат в датафрейм `success_adv_df`, распечатайте размер нового датафрейма."
   ]
  },
  {
   "cell_type": "code",
   "metadata": {
    "id": "bLXL13nROjpY",
    "ExecuteTime": {
     "end_time": "2024-09-24T17:11:10.084047Z",
     "start_time": "2024-09-24T17:11:10.082090Z"
    }
   },
   "source": [
    "# Ваш код здесь"
   ],
   "outputs": [],
   "execution_count": 13
  },
  {
   "cell_type": "markdown",
   "metadata": {
    "id": "xuFXaMy6OjpZ"
   },
   "source": [
    "***Задача 12***\n",
    "\n",
    "Загрузите таблицу с данными пользователей из файла `users.csv` и сохраните её в датафрейм `users_df`. Индекс не указывайте.\n",
    "\n",
    "Распечатайте сам датафрейм и сводную таблицу со статистиками для него."
   ]
  },
  {
   "cell_type": "code",
   "metadata": {
    "id": "mrmK3IxLOjpZ",
    "ExecuteTime": {
     "end_time": "2024-09-24T17:11:10.093791Z",
     "start_time": "2024-09-24T17:11:10.092112Z"
    }
   },
   "source": [
    "# Ваш код здесь"
   ],
   "outputs": [],
   "execution_count": 14
  },
  {
   "cell_type": "markdown",
   "metadata": {
    "ExecuteTime": {
     "end_time": "2021-10-24T13:57:38.550026Z",
     "start_time": "2021-10-24T13:57:38.545212Z"
    },
    "id": "WJ00AZrXOjpZ"
   },
   "source": [
    "***Задача 13***\n",
    "\n",
    "Глядя на статистики `users_df`, укажите значения, удовлетворяющие следующим условиям:\n",
    "1. Возраст самого молодого пользователя сайта: *ваш_ответ*\n",
    "2. Максимальный средний доход в месте жительства пользователя сайта: *ваш_ответ*\n",
    "3. Средний возраст пользователя сайта: *ваш_ответ*\n",
    "4. Количество заполненных значений для колонки, содержащей информацию о том, является пользователь мужчиной или нет: *ваш_ответ*\n",
    "5. Минимальный номер пользователя: *ваш_ответ*\n",
    "\n",
    "В этом задании не требуется выбирать по условиям и распечатывать значения, достаточно внимательно посмотреть на статистики и скопировать нужные значения согласно вопросам."
   ]
  },
  {
   "cell_type": "markdown",
   "metadata": {
    "id": "AcTd7M2gOjpa"
   },
   "source": [
    "***Задача 14***\n",
    "\n",
    "К полученному датафрейму с успешными рекламными сообщениями `success_adv_df` добавьте справа информацию из датафрейма с пользователями `users_df` и сохраните в датафрейм `success_full_df`. В полученном датафрейме должны остаться только те пользователи, номера которых есть в обоих датафреймах. Для этого воспользуйтесь методом `merge` и пропишите явно верные параметры.\n",
    "\n",
    "Затем распечатайте датафрейм."
   ]
  },
  {
   "cell_type": "markdown",
   "metadata": {
    "id": "dqlixtI0Ojpa"
   },
   "source": [
    "*Важно:*\n",
    "\n",
    "Объединять датафреймы с помощью `merge` можно и по индексам, и по столбцам с разными названиями. \n",
    "Так как общие значения содержатся в столбце `Number`, но в датафрейме `users_df` данный столбец является обычным столбцом, а в `success_adv_df` является индексом, перед тем как объединять, переведите столбец `Number` в `success_adv_df` в обычный столбец.\n",
    "\n",
    "Для этого перед объединением пропишите:\n",
    "```\n",
    "success_adv_df = success_adv_df.reset_index()\n",
    "```\n",
    "\n",
    "[Подробнее о reset_index](https://pandas.pydata.org/docs/reference/api/pandas.DataFrame.reset_index.html)"
   ]
  },
  {
   "cell_type": "code",
   "metadata": {
    "id": "aBgNVejCOjpa",
    "ExecuteTime": {
     "end_time": "2024-09-24T17:11:10.109540Z",
     "start_time": "2024-09-24T17:11:10.107685Z"
    }
   },
   "source": [
    "# Ваш код здесь"
   ],
   "outputs": [],
   "execution_count": 15
  },
  {
   "cell_type": "markdown",
   "metadata": {
    "id": "3ELhJzr7Ojpb"
   },
   "source": [
    "***Задача 15***\n",
    "\n",
    "Для объединённого датафрейма с пользователями, которые кликнули на рекламное сообщение `success_full_df`, отобразите сводную таблицу со статистиками для строковых колонок (`Ad Topic Line`, `City`, `Country`).\n"
   ]
  },
  {
   "cell_type": "code",
   "metadata": {
    "id": "gKa6zjEyOjpb",
    "ExecuteTime": {
     "end_time": "2024-09-24T17:11:10.126139Z",
     "start_time": "2024-09-24T17:11:10.124305Z"
    }
   },
   "source": [
    "# Ваш код здесь"
   ],
   "outputs": [],
   "execution_count": 16
  },
  {
   "cell_type": "markdown",
   "metadata": {
    "id": "uk1V6_IDOjpb"
   },
   "source": [
    "***Задача 16***\n",
    "\n",
    "Для объединённого датафрейма с пользователями, которые кликнули на рекламное сообщение `success_full_df`, выведите страну и количество вхождений этой страны в датафрейм.\n"
   ]
  },
  {
   "cell_type": "code",
   "metadata": {
    "id": "jRf8i7z0Ojpb",
    "ExecuteTime": {
     "end_time": "2024-09-24T17:11:10.140034Z",
     "start_time": "2024-09-24T17:11:10.138220Z"
    }
   },
   "source": [
    "# Ваш код здесь"
   ],
   "outputs": [],
   "execution_count": 17
  },
  {
   "cell_type": "markdown",
   "metadata": {
    "id": "k14sXVXSOjpc"
   },
   "source": [
    "***Задача 17***\n",
    "\n",
    "Для объединённого датафрейма с пользователями, которые кликнули на рекламное сообщение `success_full_df`, выведите строки с данными пользователей из страны, название которой встречается чаще остальных.\n"
   ]
  },
  {
   "cell_type": "code",
   "metadata": {
    "id": "RsWmGl0COjpc",
    "ExecuteTime": {
     "end_time": "2024-09-24T17:11:10.151289Z",
     "start_time": "2024-09-24T17:11:10.149626Z"
    }
   },
   "source": [
    "# Ваш код здесь"
   ],
   "outputs": [],
   "execution_count": 18
  },
  {
   "cell_type": "markdown",
   "metadata": {
    "id": "cG08bAqrOjpc"
   },
   "source": [
    "***Задача 18***\n",
    "\n",
    "Для объединённого датафрейма с пользователями, которые кликнули на рекламное сообщение `success_full_df`, выведите строки с данными пользователей из страны, название которой встречается чаще остальных, они проводят в интернете в среднем больше 120 минут и их возраст меньше 30 лет. \n",
    "Cохраните получившиеся строки в новый датафрейм `filtered_df`.\n"
   ]
  },
  {
   "cell_type": "code",
   "metadata": {
    "id": "p-meXdGOOjpc",
    "ExecuteTime": {
     "end_time": "2024-09-24T17:11:10.162220Z",
     "start_time": "2024-09-24T17:11:10.160255Z"
    }
   },
   "source": [
    "# Ваш код здесь"
   ],
   "outputs": [],
   "execution_count": 19
  },
  {
   "cell_type": "markdown",
   "metadata": {
    "id": "HHczs4f6Ojpc"
   },
   "source": [
    "***Задача 19***\n",
    "\n",
    "Для получившегося датафрейма `filtered_df` выведите строки с данными пользователей, для которых либо не указано среднее время, проведённое на сайте, либо указанное время больше 55 минут. Cохраните получившиеся строки в новый датафрейм `filtered_df2`.\n"
   ]
  },
  {
   "cell_type": "code",
   "metadata": {
    "id": "jeWcOmrXOjpd",
    "ExecuteTime": {
     "end_time": "2024-09-24T17:11:10.172137Z",
     "start_time": "2024-09-24T17:11:10.170508Z"
    }
   },
   "source": [
    "# Ваш код здесь"
   ],
   "outputs": [],
   "execution_count": 20
  },
  {
   "cell_type": "markdown",
   "metadata": {
    "id": "UZ63-YrPOjpd"
   },
   "source": [
    "**Дополнительные задачи**"
   ]
  },
  {
   "cell_type": "markdown",
   "metadata": {
    "id": "MIAm3M_SOjpd"
   },
   "source": [
    "***Задача 20***\n",
    "\n",
    "Для датафрейма `adv123_df` выведите строки с данными, заголовок рекламного сообщения в которых включает слово `model`.\n",
    "\n",
    "Для этого вам понадобится метод [`contains`](https://pandas.pydata.org/docs/reference/api/pandas.Series.str.contains.html).\n",
    "\n",
    "Cохраните получившиеся строки в новый датафрейм `model_df`.\n"
   ]
  },
  {
   "cell_type": "code",
   "metadata": {
    "id": "Bdzh725COjpd",
    "ExecuteTime": {
     "end_time": "2024-09-24T17:11:10.181982Z",
     "start_time": "2024-09-24T17:11:10.180195Z"
    }
   },
   "source": [
    "# Ваш код здесь"
   ],
   "outputs": [],
   "execution_count": 21
  },
  {
   "cell_type": "markdown",
   "metadata": {
    "id": "u198e6noOjpd"
   },
   "source": [
    "***Задача 21***\n",
    "\n",
    "Для получившегося датафрейма `model_df` выведите строки с данными пользователей, которые проводят на сайте больше среднего времени по всем пользователям в данном датафрейме. Cохраните получившиеся строки в новый датафрейм `model_popular_df`.\n"
   ]
  },
  {
   "cell_type": "code",
   "metadata": {
    "id": "POUDDdXqOjpd",
    "ExecuteTime": {
     "end_time": "2024-09-24T17:11:10.192527Z",
     "start_time": "2024-09-24T17:11:10.190673Z"
    }
   },
   "source": [
    "# Ваш код здесь"
   ],
   "outputs": [],
   "execution_count": 22
  },
  {
   "cell_type": "markdown",
   "metadata": {
    "ExecuteTime": {
     "end_time": "2021-10-24T13:24:06.355148Z",
     "start_time": "2021-10-24T13:24:06.350890Z"
    },
    "id": "7wLZJHOzOjpe"
   },
   "source": [
    "***Задача 22***\n",
    "\n",
    "Для объединённого датафрейма `model_popular_df` выведите строки с данными пользователей, номера которых равны 501, 712 и 823. \n",
    "\n",
    "Для этого вам понадобится метод [`isin`](https://pandas.pydata.org/docs/reference/api/pandas.DataFrame.isin.html).\n",
    "\n",
    "*Подсказка:* Не забудьте, что номера пользователей находятся не в обычной колонке, а в колонке, являющейся индексом, поэтому вам необходимо получить значения индекса, а не обычной колонки."
   ]
  },
  {
   "cell_type": "code",
   "metadata": {
    "id": "Og4623HzOjpe",
    "ExecuteTime": {
     "end_time": "2024-09-24T17:11:10.202338Z",
     "start_time": "2024-09-24T17:11:10.200747Z"
    }
   },
   "source": [
    "# Ваш код здесь"
   ],
   "outputs": [],
   "execution_count": 23
  }
 ]
}
